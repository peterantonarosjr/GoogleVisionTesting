{
 "cells": [
  {
   "cell_type": "markdown",
   "id": "8674177b",
   "metadata": {},
   "source": [
    "# Using Google Vision "
   ]
  },
  {
   "cell_type": "markdown",
   "id": "ac7ff935",
   "metadata": {},
   "source": [
    "## Imports & Setup"
   ]
  },
  {
   "cell_type": "code",
   "execution_count": 2,
   "id": "d423a6b8",
   "metadata": {},
   "outputs": [],
   "source": [
    "import os\n",
    "import io\n",
    "\n",
    "# Imports the Google Cloud client library\n",
    "from google.cloud import vision\n",
    "os.environ[\"GOOGLE_APPLICATION_CREDENTIALS\"] = \"/home/peterjr/Downloads/onyx-link-376014-c8264d0132a0.json\""
   ]
  },
  {
   "cell_type": "markdown",
   "id": "bfe9ab47",
   "metadata": {},
   "source": [
    "## Detecting Text in an Image"
   ]
  },
  {
   "cell_type": "code",
   "execution_count": 10,
   "id": "0ba4b99d",
   "metadata": {},
   "outputs": [],
   "source": [
    "def detect_text(path):\n",
    "    client = vision.ImageAnnotatorClient()\n",
    "\n",
    "    with io.open(path, 'rb') as image_file:\n",
    "        content = image_file.read()\n",
    "\n",
    "    image = vision.Image(content=content)\n",
    "\n",
    "    response = client.text_detection(image=image)\n",
    "    texts = response.text_annotations\n",
    "    print('Texts:')\n",
    "\n",
    "    for text in texts:\n",
    "        print('\\n\"{}\"'.format(text.description))\n",
    "\n",
    "        vertices = (['({},{})'.format(vertex.x, vertex.y)\n",
    "                    for vertex in text.bounding_poly.vertices])\n",
    "\n",
    "        print('bounds: {}'.format(','.join(vertices)))\n",
    "\n",
    "    if response.error.message:\n",
    "        raise Exception(\n",
    "            '{}\\nFor more info on error messages, check: '\n",
    "            'https://cloud.google.com/apis/design/errors'.format(\n",
    "                response.error.message))"
   ]
  },
  {
   "cell_type": "code",
   "execution_count": 11,
   "id": "bfb00a0f",
   "metadata": {
    "scrolled": true
   },
   "outputs": [
    {
     "name": "stdout",
     "output_type": "stream",
     "text": [
      "Texts:\n",
      "\n",
      "\"○ INDIANA\n",
      "00°\n",
      "A 9999 Z\n",
      "00-00\n",
      "MDC\n",
      "00.00.000\n",
      "O\"\n",
      "bounds: (100,80),(1317,80),(1317,777),(100,777)\n",
      "\n",
      "\"○\"\n",
      "bounds: (100,92),(158,92),(158,169),(100,169)\n",
      "\n",
      "\"INDIANA\"\n",
      "bounds: (208,92),(767,92),(767,169),(208,169)\n",
      "\n",
      "\"00\"\n",
      "bounds: (1030,86),(1219,82),(1221,180),(1032,184)\n",
      "\n",
      "\"°\"\n",
      "bounds: (1232,82),(1315,80),(1317,177),(1234,179)\n",
      "\n",
      "\"A\"\n",
      "bounds: (221,213),(376,214),(374,519),(219,518)\n",
      "\n",
      "\"9999\"\n",
      "bounds: (394,214),(981,218),(979,523),(392,519)\n",
      "\n",
      "\"Z\"\n",
      "bounds: (1018,218),(1172,219),(1170,524),(1016,523)\n",
      "\n",
      "\"00-00\"\n",
      "bounds: (172,598),(504,595),(505,710),(173,713)\n",
      "\n",
      "\"MDC\"\n",
      "bounds: (720,576),(1023,576),(1023,671),(720,671)\n",
      "\n",
      "\"00.00.000\"\n",
      "bounds: (641,750),(764,751),(764,777),(641,776)\n",
      "\n",
      "\"O\"\n",
      "bounds: (1243,648),(1304,648),(1304,700),(1243,700)\n"
     ]
    }
   ],
   "source": [
    "detect_text(\"/home/peterjr/Pictures/licensePlate_test.png\")"
   ]
  },
  {
   "cell_type": "markdown",
   "id": "8ba1172d",
   "metadata": {},
   "source": [
    "## Detecting Text on Image Batch"
   ]
  },
  {
   "cell_type": "code",
   "execution_count": null,
   "id": "85abdc3b",
   "metadata": {},
   "outputs": [],
   "source": [
    "#List consisting of strings representing the location of images, example:\n",
    "# imageList = ['/pictures/img1.png','/pictures/img2.png']\n",
    "\n",
    "imageList = os.listdir(\"/pictures\")\n",
    "\n",
    "#A local folder where the text from each image will be stored\n",
    "outputFolder = \"/textResults/\"\n",
    "\n",
    "#Iterate over each image in the list\n",
    "for img in imageList:\n",
    "    \n",
    "    #Use the function we have defined to grab the text\n",
    "    extractedText = detect_text(img)\n",
    "    \n",
    "    outputName = img[5:-4]+\".txt\" # Use the image directory to produce a name for the text file\n",
    "    \n",
    "    #Output the text to a text file named the same as the img\n",
    "    with open(outputFolder+outputName, 'w') as f:\n",
    "        f.write(extractedText)\n",
    "        \n",
    "    "
   ]
  }
 ],
 "metadata": {
  "kernelspec": {
   "display_name": "Python 3 (ipykernel)",
   "language": "python",
   "name": "python3"
  },
  "language_info": {
   "codemirror_mode": {
    "name": "ipython",
    "version": 3
   },
   "file_extension": ".py",
   "mimetype": "text/x-python",
   "name": "python",
   "nbconvert_exporter": "python",
   "pygments_lexer": "ipython3",
   "version": "3.10.8"
  }
 },
 "nbformat": 4,
 "nbformat_minor": 5
}
